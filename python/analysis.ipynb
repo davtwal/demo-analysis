{
 "cells": [
  {
   "cell_type": "markdown",
   "id": "eb7b27ee",
   "metadata": {},
   "source": [
    "## TF2 Demo Analysis\n",
    "\n",
    "*(Be sure to select the .env kernal!)*"
   ]
  },
  {
   "cell_type": "code",
   "execution_count": 1,
   "id": "e84df5c5",
   "metadata": {},
   "outputs": [
    {
     "name": "stderr",
     "output_type": "stream",
     "text": [
      "C:\\Users\\davtw\\AppData\\Local\\Temp\\ipykernel_14628\\959196241.py:6: DeprecationWarning: \n",
      "Pyarrow will become a required dependency of pandas in the next major release of pandas (pandas 3.0),\n",
      "(to allow more performant data types, such as the Arrow string type, and better interoperability with other libraries)\n",
      "but was not found to be installed on your system.\n",
      "If this would cause problems for you,\n",
      "please provide us feedback at https://github.com/pandas-dev/pandas/issues/54466\n",
      "        \n",
      "  import pandas as pd\n"
     ]
    }
   ],
   "source": [
    "import demo_analysis_lib as dal\n",
    "from demo_analysis_lib import entities as ent, events as evt\n",
    "\n",
    "# If any of these fail, use \"!pip install <package>\" to install via pip\n",
    "import numpy as np\n",
    "import pandas as pd\n",
    "import matplotlib as plt\n",
    "import kmapper as km"
   ]
  },
  {
   "cell_type": "markdown",
   "id": "b1af4756",
   "metadata": {},
   "source": [
    "The file located at `demos/demofile.dem` was acquired from [demos.tf/1042159](https://demos.tf/1042159) and the associated log file SHOULD be [this one](https://logs.tf/3501742)"
   ]
  },
  {
   "cell_type": "code",
   "execution_count": 12,
   "id": "749fc095",
   "metadata": {},
   "outputs": [
    {
     "name": "stdout",
     "output_type": "stream",
     "text": [
      "Loaded 6 round(s)\n"
     ]
    }
   ],
   "source": [
    "rounds_data = dal.load_demo_rounds(\"demos/demofile.dem\")\n",
    "print(f\"Loaded {len(rounds_data)} round(s)\")"
   ]
  },
  {
   "cell_type": "markdown",
   "id": "e47cdb82",
   "metadata": {},
   "source": [
    "Round data for demofile.dem should be approximately as follows (from log):\n",
    "\n",
    "| Round | Time | Kills |\n",
    "|-------|------|-------|\n",
    "| 0     | 3:37 | 19    |\n",
    "| 1     | 2:41 | 21    |\n",
    "| 2     | 8:23 | 47    |\n",
    "| 3     | 2:05 | 9     |\n",
    "| 4     | 2:17 | 23    |\n",
    "| 5     | 4:34 | 33    |"
   ]
  },
  {
   "cell_type": "code",
   "execution_count": 24,
   "id": "b6e90d50",
   "metadata": {},
   "outputs": [
    {
     "name": "stdout",
     "output_type": "stream",
     "text": [
      "Round 0:  3:36.45 (216.449995)\n",
      "- Kills: 19\n",
      "- Ticks: 334 - 14768 (14434 vs 14430)\n",
      "- Winner: Team.Red\n",
      "Round 1:  2:41.74 (161.744996)\n",
      "- Kills: 21\n",
      "- Ticks: 15435 - 26220 (10785 vs 10783)\n",
      "- Winner: Team.Red\n",
      "Round 2:  8:22.24 (502.244989)\n",
      "- Kills: 47\n",
      "- Ticks: 26887 - 60372 (33485 vs 33483)\n",
      "- Winner: Team.Blue\n",
      "Round 3:  2: 5.23 (125.234997)\n",
      "- Kills: 9\n",
      "- Ticks: 61042 - 69394 (8352 vs 8349)\n",
      "- Winner: Team.Red\n",
      "Round 4:  2:15.75 (135.749997)\n",
      "- Kills: 23\n",
      "- Ticks: 70061 - 79196 (9135 vs 9050)\n",
      "- Winner: Team.Red\n",
      "Round 5:  4:32.52 (272.519994)\n",
      "- Kills: 33\n",
      "- Ticks: 79863 - 98140 (18277 vs 18168)\n",
      "- Winner: Team.Red\n"
     ]
    }
   ],
   "source": [
    "for i, round in enumerate(rounds_data):\n",
    "    time = 0.0\n",
    "    for tick, state in round.tick_states.items():\n",
    "        time += state.tick_delta\n",
    "    print(\"Round %d: %2d:%5.2f (%f)\" %\n",
    "          (i, int(np.floor(time/60)), time - np.floor(time/60) * 60, time))\n",
    "    print(f\"- Kills: {len(round.kills)}\")\n",
    "    print(f\"- Ticks: {round.rounds[0].start_tick} - {round.rounds[0].end_tick} ({round.rounds[0].end_tick - round.rounds[0].start_tick} vs {len(round.tick_states)})\")\n",
    "    print(f\"- Winner: {round.rounds[0].winner}\")"
   ]
  },
  {
   "cell_type": "code",
   "execution_count": null,
   "id": "ec48d5d7",
   "metadata": {},
   "outputs": [],
   "source": []
  },
  {
   "cell_type": "code",
   "execution_count": 5,
   "id": "72834d18",
   "metadata": {},
   "outputs": [
    {
     "name": "stdout",
     "output_type": "stream",
     "text": [
      "Round 0:\n",
      "- Kill count: 9\n",
      "- Tick state count: 6412\n",
      "Round 1:\n",
      "- Kill count: 20\n",
      "- Tick state count: 9824\n",
      "Round 2:\n",
      "- Kill count: 24\n",
      "- Tick state count: 12590\n",
      "Round 3:\n",
      "- Kill count: 23\n",
      "- Tick state count: 23662\n",
      "Round 4:\n",
      "- Kill count: 119\n",
      "- Tick state count: 78464\n"
     ]
    }
   ],
   "source": [
    "for i, round in enumerate(rounds_data):\n",
    "    print(f\"Round {i}:\")\n",
    "    print(f\"- Kill count: {len(round.kills)}\")\n",
    "    print(f\"- Tick state count: {len(round.tick_states)}\")"
   ]
  },
  {
   "cell_type": "code",
   "execution_count": null,
   "id": "3dc04a39",
   "metadata": {},
   "outputs": [],
   "source": [
    "# Data summaries\n",
    "class PlayerSummary:\n",
    "    def __init__(self):\n",
    "        self.kills = 0\n",
    "        self.assists = 0\n",
    "        self.deaths = 0\n",
    "        self.captures = 0\n",
    "        self.ticks_dead = 0\n",
    "        self.ticks_alive = 0"
   ]
  }
 ],
 "metadata": {
  "kernelspec": {
   "display_name": "Python 3 (ipykernel)",
   "language": "python",
   "name": "python3"
  },
  "language_info": {
   "codemirror_mode": {
    "name": "ipython",
    "version": 3
   },
   "file_extension": ".py",
   "mimetype": "text/x-python",
   "name": "python",
   "nbconvert_exporter": "python",
   "pygments_lexer": "ipython3",
   "version": "3.10.2"
  }
 },
 "nbformat": 4,
 "nbformat_minor": 5
}
